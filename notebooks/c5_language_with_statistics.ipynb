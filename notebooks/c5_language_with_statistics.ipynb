{
 "cells": [
  {
   "cell_type": "markdown",
   "metadata": {
    "colab_type": "text",
    "id": "TkRC37fK5Dgy"
   },
   "source": [
    "# Configuración Inicial"
   ]
  },
  {
   "cell_type": "code",
   "execution_count": 1,
   "metadata": {},
   "outputs": [
    {
     "name": "stderr",
     "output_type": "stream",
     "text": [
      "[nltk_data] Downloading collection 'book'\n",
      "[nltk_data]    | \n",
      "[nltk_data]    | Downloading package abc to /home/luis/nltk_data...\n",
      "[nltk_data]    |   Package abc is already up-to-date!\n",
      "[nltk_data]    | Downloading package brown to /home/luis/nltk_data...\n",
      "[nltk_data]    |   Package brown is already up-to-date!\n",
      "[nltk_data]    | Downloading package chat80 to /home/luis/nltk_data...\n",
      "[nltk_data]    |   Package chat80 is already up-to-date!\n",
      "[nltk_data]    | Downloading package cmudict to\n",
      "[nltk_data]    |     /home/luis/nltk_data...\n",
      "[nltk_data]    |   Package cmudict is already up-to-date!\n",
      "[nltk_data]    | Downloading package conll2000 to\n",
      "[nltk_data]    |     /home/luis/nltk_data...\n",
      "[nltk_data]    |   Package conll2000 is already up-to-date!\n",
      "[nltk_data]    | Downloading package conll2002 to\n",
      "[nltk_data]    |     /home/luis/nltk_data...\n",
      "[nltk_data]    |   Package conll2002 is already up-to-date!\n",
      "[nltk_data]    | Downloading package dependency_treebank to\n",
      "[nltk_data]    |     /home/luis/nltk_data...\n",
      "[nltk_data]    |   Package dependency_treebank is already up-to-date!\n",
      "[nltk_data]    | Downloading package genesis to\n",
      "[nltk_data]    |     /home/luis/nltk_data...\n",
      "[nltk_data]    |   Package genesis is already up-to-date!\n",
      "[nltk_data]    | Downloading package gutenberg to\n",
      "[nltk_data]    |     /home/luis/nltk_data...\n",
      "[nltk_data]    |   Package gutenberg is already up-to-date!\n",
      "[nltk_data]    | Downloading package ieer to /home/luis/nltk_data...\n",
      "[nltk_data]    |   Package ieer is already up-to-date!\n",
      "[nltk_data]    | Downloading package inaugural to\n",
      "[nltk_data]    |     /home/luis/nltk_data...\n",
      "[nltk_data]    |   Package inaugural is already up-to-date!\n",
      "[nltk_data]    | Downloading package movie_reviews to\n",
      "[nltk_data]    |     /home/luis/nltk_data...\n",
      "[nltk_data]    |   Package movie_reviews is already up-to-date!\n",
      "[nltk_data]    | Downloading package nps_chat to\n",
      "[nltk_data]    |     /home/luis/nltk_data...\n",
      "[nltk_data]    |   Package nps_chat is already up-to-date!\n",
      "[nltk_data]    | Downloading package names to /home/luis/nltk_data...\n",
      "[nltk_data]    |   Package names is already up-to-date!\n",
      "[nltk_data]    | Downloading package ppattach to\n",
      "[nltk_data]    |     /home/luis/nltk_data...\n",
      "[nltk_data]    |   Package ppattach is already up-to-date!\n",
      "[nltk_data]    | Downloading package reuters to\n",
      "[nltk_data]    |     /home/luis/nltk_data...\n",
      "[nltk_data]    |   Package reuters is already up-to-date!\n",
      "[nltk_data]    | Downloading package senseval to\n",
      "[nltk_data]    |     /home/luis/nltk_data...\n",
      "[nltk_data]    |   Package senseval is already up-to-date!\n",
      "[nltk_data]    | Downloading package state_union to\n",
      "[nltk_data]    |     /home/luis/nltk_data...\n",
      "[nltk_data]    |   Package state_union is already up-to-date!\n",
      "[nltk_data]    | Downloading package stopwords to\n",
      "[nltk_data]    |     /home/luis/nltk_data...\n",
      "[nltk_data]    |   Package stopwords is already up-to-date!\n",
      "[nltk_data]    | Downloading package swadesh to\n",
      "[nltk_data]    |     /home/luis/nltk_data...\n",
      "[nltk_data]    |   Package swadesh is already up-to-date!\n",
      "[nltk_data]    | Downloading package timit to /home/luis/nltk_data...\n",
      "[nltk_data]    |   Package timit is already up-to-date!\n",
      "[nltk_data]    | Downloading package treebank to\n",
      "[nltk_data]    |     /home/luis/nltk_data...\n",
      "[nltk_data]    |   Package treebank is already up-to-date!\n",
      "[nltk_data]    | Downloading package toolbox to\n",
      "[nltk_data]    |     /home/luis/nltk_data...\n",
      "[nltk_data]    |   Package toolbox is already up-to-date!\n",
      "[nltk_data]    | Downloading package udhr to /home/luis/nltk_data...\n",
      "[nltk_data]    |   Package udhr is already up-to-date!\n",
      "[nltk_data]    | Downloading package udhr2 to /home/luis/nltk_data...\n",
      "[nltk_data]    |   Package udhr2 is already up-to-date!\n",
      "[nltk_data]    | Downloading package unicode_samples to\n",
      "[nltk_data]    |     /home/luis/nltk_data...\n",
      "[nltk_data]    |   Package unicode_samples is already up-to-date!\n",
      "[nltk_data]    | Downloading package webtext to\n",
      "[nltk_data]    |     /home/luis/nltk_data...\n",
      "[nltk_data]    |   Package webtext is already up-to-date!\n",
      "[nltk_data]    | Downloading package wordnet to\n",
      "[nltk_data]    |     /home/luis/nltk_data...\n",
      "[nltk_data]    |   Package wordnet is already up-to-date!\n",
      "[nltk_data]    | Downloading package wordnet_ic to\n",
      "[nltk_data]    |     /home/luis/nltk_data...\n",
      "[nltk_data]    |   Package wordnet_ic is already up-to-date!\n",
      "[nltk_data]    | Downloading package words to /home/luis/nltk_data...\n",
      "[nltk_data]    |   Package words is already up-to-date!\n",
      "[nltk_data]    | Downloading package maxent_treebank_pos_tagger to\n",
      "[nltk_data]    |     /home/luis/nltk_data...\n",
      "[nltk_data]    |   Package maxent_treebank_pos_tagger is already up-\n",
      "[nltk_data]    |       to-date!\n",
      "[nltk_data]    | Downloading package maxent_ne_chunker to\n",
      "[nltk_data]    |     /home/luis/nltk_data...\n",
      "[nltk_data]    |   Package maxent_ne_chunker is already up-to-date!\n",
      "[nltk_data]    | Downloading package universal_tagset to\n",
      "[nltk_data]    |     /home/luis/nltk_data...\n",
      "[nltk_data]    |   Package universal_tagset is already up-to-date!\n",
      "[nltk_data]    | Downloading package punkt to /home/luis/nltk_data...\n",
      "[nltk_data]    |   Package punkt is already up-to-date!\n",
      "[nltk_data]    | Downloading package book_grammars to\n",
      "[nltk_data]    |     /home/luis/nltk_data...\n",
      "[nltk_data]    |   Package book_grammars is already up-to-date!\n",
      "[nltk_data]    | Downloading package city_database to\n",
      "[nltk_data]    |     /home/luis/nltk_data...\n",
      "[nltk_data]    |   Package city_database is already up-to-date!\n",
      "[nltk_data]    | Downloading package tagsets to\n",
      "[nltk_data]    |     /home/luis/nltk_data...\n",
      "[nltk_data]    |   Package tagsets is already up-to-date!\n",
      "[nltk_data]    | Downloading package panlex_swadesh to\n",
      "[nltk_data]    |     /home/luis/nltk_data...\n",
      "[nltk_data]    |   Package panlex_swadesh is already up-to-date!\n",
      "[nltk_data]    | Downloading package averaged_perceptron_tagger to\n",
      "[nltk_data]    |     /home/luis/nltk_data...\n",
      "[nltk_data]    |   Package averaged_perceptron_tagger is already up-\n",
      "[nltk_data]    |       to-date!\n",
      "[nltk_data]    | \n",
      "[nltk_data]  Done downloading collection book\n"
     ]
    },
    {
     "name": "stdout",
     "output_type": "stream",
     "text": [
      "*** Introductory Examples for the NLTK Book ***\n",
      "Loading text1, ..., text9 and sent1, ..., sent9\n",
      "Type the name of the text or sentence to view it.\n",
      "Type: 'texts()' or 'sents()' to list the materials.\n",
      "text1: Moby Dick by Herman Melville 1851\n",
      "text2: Sense and Sensibility by Jane Austen 1811\n",
      "text3: The Book of Genesis\n",
      "text4: Inaugural Address Corpus\n",
      "text5: Chat Corpus\n",
      "text6: Monty Python and the Holy Grail\n",
      "text7: Wall Street Journal\n",
      "text8: Personals Corpus\n",
      "text9: The Man Who Was Thursday by G . K . Chesterton 1908\n"
     ]
    }
   ],
   "source": [
    "import nltk\n",
    "nltk.download('book')\n",
    "from nltk.book import *\n",
    "import matplotlib.pyplot as plt\n",
    "import numpy as np\n",
    "import pandas as pd\n",
    "import plotly.express as px\n"
   ]
  },
  {
   "cell_type": "markdown",
   "metadata": {
    "colab_type": "text",
    "id": "c_O4LOql9DE2"
   },
   "source": [
    "#Bi-gramas\n",
    "* Parejas de palabras que ocurren consecutivas."
   ]
  },
  {
   "cell_type": "code",
   "execution_count": 2,
   "metadata": {},
   "outputs": [],
   "source": [
    "# frecuencia de distribucion de la cantidad de veces que aparecen los bigramas\n",
    "md_bigrams = list(bigrams(text1))\n",
    "fdist = FreqDist(md_bigrams)"
   ]
  },
  {
   "cell_type": "markdown",
   "metadata": {
    "colab_type": "text",
    "id": "x-bYnXwHk9Nh"
   },
   "source": [
    "Aqui podemos obtener los bi-gramas más frecuentes en este texto:"
   ]
  },
  {
   "cell_type": "code",
   "execution_count": 3,
   "metadata": {},
   "outputs": [
    {
     "data": {
      "text/plain": [
       "[((',', 'and'), 2607),\n",
       " (('of', 'the'), 1847),\n",
       " ((\"'\", 's'), 1737),\n",
       " (('in', 'the'), 1120),\n",
       " ((',', 'the'), 908),\n",
       " ((';', 'and'), 853),\n",
       " (('to', 'the'), 712),\n",
       " (('.', 'But'), 596),\n",
       " ((',', 'that'), 584),\n",
       " (('.', '\"'), 557)]"
      ]
     },
     "execution_count": 3,
     "metadata": {},
     "output_type": "execute_result"
    }
   ],
   "source": [
    "fdist.most_common(10)"
   ]
  },
  {
   "cell_type": "code",
   "execution_count": 4,
   "metadata": {},
   "outputs": [
    {
     "data": {
      "image/png": "[encoded data removed]",
      "text/plain": [
       "<Figure size 432x288 with 1 Axes>"
      ]
     },
     "metadata": {
      "needs_background": "light"
     },
     "output_type": "display_data"
    },
    {
     "data": {
      "text/plain": [
       "<AxesSubplot:xlabel='Samples', ylabel='Counts'>"
      ]
     },
     "execution_count": 4,
     "metadata": {},
     "output_type": "execute_result"
    }
   ],
   "source": [
    "fdist.plot(10)"
   ]
  },
  {
   "cell_type": "markdown",
   "metadata": {
    "colab_type": "text",
    "id": "hdVJ-IG5lVkJ"
   },
   "source": [
    "## Filtrado de bi-gramas\n",
    "* Sin embargo, observamos que los bi-gramas más comunes no representan realmente frases o estructuras léxicas de interes.\n",
    "* Tal vez, aplicar algun tipo de filtro nos permita ver estructuras más relevantes."
   ]
  },
  {
   "cell_type": "code",
   "execution_count": 5,
   "metadata": {},
   "outputs": [
    {
     "data": {
      "image/png": "[encoded data removed]",
      "text/plain": [
       "<Figure size 432x288 with 1 Axes>"
      ]
     },
     "metadata": {
      "needs_background": "light"
     },
     "output_type": "display_data"
    },
    {
     "data": {
      "text/plain": [
       "<AxesSubplot:xlabel='Samples', ylabel='Counts'>"
      ]
     },
     "execution_count": 5,
     "metadata": {},
     "output_type": "execute_result"
    }
   ],
   "source": [
    "threshold = 2\n",
    "filtered_bigrams = [bigram for bigram in md_bigrams if len(bigram[0]) > threshold]\n",
    "\n",
    "filtered_dist = FreqDist(filtered_bigrams)\n",
    "filtered_dist.plot(20)"
   ]
  },
  {
   "cell_type": "markdown",
   "metadata": {},
   "source": [
    "## Trigramas"
   ]
  },
  {
   "cell_type": "code",
   "execution_count": 6,
   "metadata": {},
   "outputs": [
    {
     "data": {
      "text/plain": [
       "[((',', 'and', 'the'), 187),\n",
       " (('don', \"'\", 't'), 103),\n",
       " (('of', 'the', 'whale'), 101),\n",
       " ((',', 'in', 'the'), 93),\n",
       " ((',', 'then', ','), 87),\n",
       " (('whale', \"'\", 's'), 81),\n",
       " (('.', 'It', 'was'), 81),\n",
       " (('ship', \"'\", 's'), 80),\n",
       " (('the', 'Sperm', 'Whale'), 77),\n",
       " ((',', 'as', 'if'), 76)]"
      ]
     },
     "execution_count": 6,
     "metadata": {},
     "output_type": "execute_result"
    }
   ],
   "source": [
    "from nltk.util import ngrams\n",
    "\n",
    "md_trigrams = list(ngrams(text1, 3))\n",
    "\n",
    "fdist = FreqDist(md_trigrams)\n",
    "fdist.most_common(10)"
   ]
  },
  {
   "cell_type": "code",
   "execution_count": 7,
   "metadata": {},
   "outputs": [
    {
     "data": {
      "image/png": "[encoded data removed]",
      "text/plain": [
       "<Figure size 432x288 with 1 Axes>"
      ]
     },
     "metadata": {
      "needs_background": "light"
     },
     "output_type": "display_data"
    },
    {
     "data": {
      "text/plain": [
       "<AxesSubplot:xlabel='Samples', ylabel='Counts'>"
      ]
     },
     "execution_count": 7,
     "metadata": {},
     "output_type": "execute_result"
    }
   ],
   "source": [
    "fdist.plot(10)"
   ]
  },
  {
   "cell_type": "code",
   "execution_count": 8,
   "metadata": {},
   "outputs": [
    {
     "data": {
      "image/png": "[encoded data removed]",
      "text/plain": [
       "<Figure size 432x288 with 1 Axes>"
      ]
     },
     "metadata": {
      "needs_background": "light"
     },
     "output_type": "display_data"
    },
    {
     "data": {
      "text/plain": [
       "<AxesSubplot:xlabel='Samples', ylabel='Counts'>"
      ]
     },
     "execution_count": 8,
     "metadata": {},
     "output_type": "execute_result"
    }
   ],
   "source": [
    "threshold = 2\n",
    "filtered_trigrams = [\n",
    "    trigram for trigram in md_trigrams if len(trigram[0]) > threshold\n",
    "]\n",
    "\n",
    "filtered_dist = FreqDist(filtered_trigrams)\n",
    "filtered_dist.plot(20)"
   ]
  },
  {
   "cell_type": "markdown",
   "metadata": {
    "colab_type": "text",
    "id": "0F99OFag5QHW"
   },
   "source": [
    "# Collocations (Colocaciones)\n",
    "\n",
    "* Son secuencias de palabras que suelen ocurrir en textos o conversaciones con una **frecuencia inusualmente alta** [NLTK doc](http://www.nltk.org/book/ch01.html)\n",
    "* Las colocaciones de una palabra son declaraciones formales de donde suele ubicarse tipicamente esa palabra [Manning & Schütze, 1990, Foundations of Statistical Natural Language Processing, Capítulo 6](https://nlp.stanford.edu/fsnlp/)"
   ]
  },
  {
   "cell_type": "code",
   "execution_count": 22,
   "metadata": {},
   "outputs": [],
   "source": [
    "mb_bigrams = list(bigrams(text1))\n",
    "# mb_bigrams\n",
    "\n",
    "threshold = 2\n",
    "\n",
    "filtered_bigrams = [bigram for bigram in mb_bigrams if len(bigram[0]) > threshold and len(bigram[1]) > threshold]\n",
    "filtered_bigram_dist = FreqDist(filtered_bigrams)\n",
    "\n",
    "# filtered_bigram_dist\n",
    "\n",
    "filtered_words = [word for word in text1 if len(word) > threshold]\n",
    "\n",
    "filtered_words_dist = FreqDist(filtered_words)\n",
    "\n",
    "df = pd.DataFrame()\n",
    "\n",
    "df['bi_grams'] = list(set(filtered_bigrams))\n",
    "df['word_0'] = df['bi_grams'].apply(lambda x: x[0])\n",
    "df['word_1'] = df['bi_grams'].apply(lambda x: x[1])\n",
    "df['bi_grams_freq'] = df['bi_grams'].apply(lambda x: filtered_bigram_dist[x])\n",
    "df['word_0_freq'] =  df['word_0'].apply(lambda x: filtered_words_dist[x])\n",
    "df['word_1_freq'] =  df['word_1'].apply(lambda x: filtered_words_dist[x])\n"
   ]
  },
  {
   "cell_type": "code",
   "execution_count": 24,
   "metadata": {},
   "outputs": [
    {
     "data": {
      "text/html": [
       "<div>\n",
       "<style scoped>\n",
       "    .dataframe tbody tr th:only-of-type {\n",
       "        vertical-align: middle;\n",
       "    }\n",
       "\n",
       "    .dataframe tbody tr th {\n",
       "        vertical-align: top;\n",
       "    }\n",
       "\n",
       "    .dataframe thead th {\n",
       "        text-align: right;\n",
       "    }\n",
       "</style>\n",
       "<table border=\"1\" class=\"dataframe\">\n",
       "  <thead>\n",
       "    <tr style=\"text-align: right;\">\n",
       "      <th></th>\n",
       "      <th>bi_grams</th>\n",
       "      <th>word_0</th>\n",
       "      <th>word_1</th>\n",
       "      <th>bi_grams_freq</th>\n",
       "      <th>word_0_freq</th>\n",
       "      <th>word_1_freq</th>\n",
       "    </tr>\n",
       "  </thead>\n",
       "  <tbody>\n",
       "    <tr>\n",
       "      <th>0</th>\n",
       "      <td>(rouse, him)</td>\n",
       "      <td>rouse</td>\n",
       "      <td>him</td>\n",
       "      <td>1</td>\n",
       "      <td>1</td>\n",
       "      <td>1058</td>\n",
       "    </tr>\n",
       "    <tr>\n",
       "      <th>1</th>\n",
       "      <td>(having, stopped)</td>\n",
       "      <td>having</td>\n",
       "      <td>stopped</td>\n",
       "      <td>1</td>\n",
       "      <td>62</td>\n",
       "      <td>8</td>\n",
       "    </tr>\n",
       "    <tr>\n",
       "      <th>2</th>\n",
       "      <td>(probable, that)</td>\n",
       "      <td>probable</td>\n",
       "      <td>that</td>\n",
       "      <td>1</td>\n",
       "      <td>6</td>\n",
       "      <td>2982</td>\n",
       "    </tr>\n",
       "    <tr>\n",
       "      <th>3</th>\n",
       "      <td>(sideways, churning)</td>\n",
       "      <td>sideways</td>\n",
       "      <td>churning</td>\n",
       "      <td>1</td>\n",
       "      <td>27</td>\n",
       "      <td>6</td>\n",
       "    </tr>\n",
       "    <tr>\n",
       "      <th>4</th>\n",
       "      <td>(our, present)</td>\n",
       "      <td>our</td>\n",
       "      <td>present</td>\n",
       "      <td>1</td>\n",
       "      <td>199</td>\n",
       "      <td>80</td>\n",
       "    </tr>\n",
       "    <tr>\n",
       "      <th>...</th>\n",
       "      <td>...</td>\n",
       "      <td>...</td>\n",
       "      <td>...</td>\n",
       "      <td>...</td>\n",
       "      <td>...</td>\n",
       "      <td>...</td>\n",
       "    </tr>\n",
       "    <tr>\n",
       "      <th>67937</th>\n",
       "      <td>(well, out)</td>\n",
       "      <td>well</td>\n",
       "      <td>out</td>\n",
       "      <td>1</td>\n",
       "      <td>174</td>\n",
       "      <td>529</td>\n",
       "    </tr>\n",
       "    <tr>\n",
       "      <th>67938</th>\n",
       "      <td>(can, mend)</td>\n",
       "      <td>can</td>\n",
       "      <td>mend</td>\n",
       "      <td>1</td>\n",
       "      <td>220</td>\n",
       "      <td>6</td>\n",
       "    </tr>\n",
       "    <tr>\n",
       "      <th>67939</th>\n",
       "      <td>(moreover, declared)</td>\n",
       "      <td>moreover</td>\n",
       "      <td>declared</td>\n",
       "      <td>1</td>\n",
       "      <td>10</td>\n",
       "      <td>14</td>\n",
       "    </tr>\n",
       "    <tr>\n",
       "      <th>67940</th>\n",
       "      <td>(Was, there)</td>\n",
       "      <td>Was</td>\n",
       "      <td>there</td>\n",
       "      <td>1</td>\n",
       "      <td>11</td>\n",
       "      <td>715</td>\n",
       "    </tr>\n",
       "    <tr>\n",
       "      <th>67941</th>\n",
       "      <td>(beneath, him)</td>\n",
       "      <td>beneath</td>\n",
       "      <td>him</td>\n",
       "      <td>6</td>\n",
       "      <td>74</td>\n",
       "      <td>1058</td>\n",
       "    </tr>\n",
       "  </tbody>\n",
       "</table>\n",
       "<p>67942 rows × 6 columns</p>\n",
       "</div>"
      ],
      "text/plain": [
       "                   bi_grams    word_0    word_1  bi_grams_freq  word_0_freq  \\\n",
       "0              (rouse, him)     rouse       him              1            1   \n",
       "1         (having, stopped)    having   stopped              1           62   \n",
       "2          (probable, that)  probable      that              1            6   \n",
       "3      (sideways, churning)  sideways  churning              1           27   \n",
       "4            (our, present)       our   present              1          199   \n",
       "...                     ...       ...       ...            ...          ...   \n",
       "67937           (well, out)      well       out              1          174   \n",
       "67938           (can, mend)       can      mend              1          220   \n",
       "67939  (moreover, declared)  moreover  declared              1           10   \n",
       "67940          (Was, there)       Was     there              1           11   \n",
       "67941        (beneath, him)   beneath       him              6           74   \n",
       "\n",
       "       word_1_freq  \n",
       "0             1058  \n",
       "1                8  \n",
       "2             2982  \n",
       "3                6  \n",
       "4               80  \n",
       "...            ...  \n",
       "67937          529  \n",
       "67938            6  \n",
       "67939           14  \n",
       "67940          715  \n",
       "67941         1058  \n",
       "\n",
       "[67942 rows x 6 columns]"
      ]
     },
     "execution_count": 24,
     "metadata": {},
     "output_type": "execute_result"
    }
   ],
   "source": [
    "df"
   ]
  },
  {
   "cell_type": "markdown",
   "metadata": {
    "colab_type": "text",
    "id": "7E_gNms8s1Zo"
   },
   "source": [
    "# Pointwise Mutual Information (PMI)\n",
    "\n",
    "información mutua punto a punto\n",
    "\n",
    "Una métrica basada en _teoria de la información_ para encontrar **Collocations**.\n",
    "\n",
    "$$\n",
    "PMI = \\log\\left(\\frac{P(w_1, w_2)}{P(w_1)P(w_2)}\\right)\n",
    "$$\n",
    "\n",
    "la probabilidad de aparicion del bigrama dividido entre la probabilidad de aparicion de cada palabra por separado.\n",
    "\n",
    "si la PMI calculada es muy grande es porque probablemente es una colocación."
   ]
  },
  {
   "cell_type": "code",
   "execution_count": 29,
   "metadata": {},
   "outputs": [],
   "source": [
    "df['PMI'] = df[['bi_grams_freq', 'word_0_freq', 'word_1_freq']].apply(\n",
    "    lambda x: np.log2(x.values[0] / (x.values[1] * x.values[2])), axis=1)\n"
   ]
  },
  {
   "cell_type": "code",
   "execution_count": 31,
   "metadata": {},
   "outputs": [
    {
     "data": {
      "text/plain": [
       "0       -10.047124\n",
       "1        -8.954196\n",
       "2       -14.127027\n",
       "3        -7.339850\n",
       "4       -13.958553\n",
       "           ...    \n",
       "67937   -16.490067\n",
       "67938   -10.366322\n",
       "67939    -7.129283\n",
       "67940   -12.941231\n",
       "67941   -13.671615\n",
       "Name: PMI, Length: 67942, dtype: float64"
      ]
     },
     "execution_count": 31,
     "metadata": {},
     "output_type": "execute_result"
    }
   ],
   "source": [
    "df['PMI']"
   ]
  },
  {
   "cell_type": "code",
   "execution_count": 32,
   "metadata": {},
   "outputs": [
    {
     "data": {
      "text/html": [
       "<div>\n",
       "<style scoped>\n",
       "    .dataframe tbody tr th:only-of-type {\n",
       "        vertical-align: middle;\n",
       "    }\n",
       "\n",
       "    .dataframe tbody tr th {\n",
       "        vertical-align: top;\n",
       "    }\n",
       "\n",
       "    .dataframe thead th {\n",
       "        text-align: right;\n",
       "    }\n",
       "</style>\n",
       "<table border=\"1\" class=\"dataframe\">\n",
       "  <thead>\n",
       "    <tr style=\"text-align: right;\">\n",
       "      <th></th>\n",
       "      <th>bi_grams</th>\n",
       "      <th>word_0</th>\n",
       "      <th>word_1</th>\n",
       "      <th>bi_grams_freq</th>\n",
       "      <th>word_0_freq</th>\n",
       "      <th>word_1_freq</th>\n",
       "      <th>PMI</th>\n",
       "    </tr>\n",
       "  </thead>\n",
       "  <tbody>\n",
       "    <tr>\n",
       "      <th>63037</th>\n",
       "      <td>(homeless, selves)</td>\n",
       "      <td>homeless</td>\n",
       "      <td>selves</td>\n",
       "      <td>1</td>\n",
       "      <td>1</td>\n",
       "      <td>1</td>\n",
       "      <td>0.000000</td>\n",
       "    </tr>\n",
       "    <tr>\n",
       "      <th>25996</th>\n",
       "      <td>(OPEN, HATCHWAY)</td>\n",
       "      <td>OPEN</td>\n",
       "      <td>HATCHWAY</td>\n",
       "      <td>1</td>\n",
       "      <td>1</td>\n",
       "      <td>1</td>\n",
       "      <td>0.000000</td>\n",
       "    </tr>\n",
       "    <tr>\n",
       "      <th>60111</th>\n",
       "      <td>(occult, lessons)</td>\n",
       "      <td>occult</td>\n",
       "      <td>lessons</td>\n",
       "      <td>1</td>\n",
       "      <td>1</td>\n",
       "      <td>1</td>\n",
       "      <td>0.000000</td>\n",
       "    </tr>\n",
       "    <tr>\n",
       "      <th>14217</th>\n",
       "      <td>(LORD, BACON)</td>\n",
       "      <td>LORD</td>\n",
       "      <td>BACON</td>\n",
       "      <td>1</td>\n",
       "      <td>1</td>\n",
       "      <td>1</td>\n",
       "      <td>0.000000</td>\n",
       "    </tr>\n",
       "    <tr>\n",
       "      <th>41507</th>\n",
       "      <td>(REPEATED, FLASHES)</td>\n",
       "      <td>REPEATED</td>\n",
       "      <td>FLASHES</td>\n",
       "      <td>1</td>\n",
       "      <td>1</td>\n",
       "      <td>1</td>\n",
       "      <td>0.000000</td>\n",
       "    </tr>\n",
       "    <tr>\n",
       "      <th>...</th>\n",
       "      <td>...</td>\n",
       "      <td>...</td>\n",
       "      <td>...</td>\n",
       "      <td>...</td>\n",
       "      <td>...</td>\n",
       "      <td>...</td>\n",
       "      <td>...</td>\n",
       "    </tr>\n",
       "    <tr>\n",
       "      <th>63147</th>\n",
       "      <td>(man, the)</td>\n",
       "      <td>man</td>\n",
       "      <td>the</td>\n",
       "      <td>1</td>\n",
       "      <td>508</td>\n",
       "      <td>13721</td>\n",
       "      <td>-22.732783</td>\n",
       "    </tr>\n",
       "    <tr>\n",
       "      <th>31709</th>\n",
       "      <td>(some, the)</td>\n",
       "      <td>some</td>\n",
       "      <td>the</td>\n",
       "      <td>1</td>\n",
       "      <td>578</td>\n",
       "      <td>13721</td>\n",
       "      <td>-22.919024</td>\n",
       "    </tr>\n",
       "    <tr>\n",
       "      <th>18705</th>\n",
       "      <td>(one, the)</td>\n",
       "      <td>one</td>\n",
       "      <td>the</td>\n",
       "      <td>1</td>\n",
       "      <td>889</td>\n",
       "      <td>13721</td>\n",
       "      <td>-23.540138</td>\n",
       "    </tr>\n",
       "    <tr>\n",
       "      <th>57851</th>\n",
       "      <td>(the, not)</td>\n",
       "      <td>the</td>\n",
       "      <td>not</td>\n",
       "      <td>1</td>\n",
       "      <td>13721</td>\n",
       "      <td>1103</td>\n",
       "      <td>-23.851315</td>\n",
       "    </tr>\n",
       "    <tr>\n",
       "      <th>59597</th>\n",
       "      <td>(the, but)</td>\n",
       "      <td>the</td>\n",
       "      <td>but</td>\n",
       "      <td>1</td>\n",
       "      <td>13721</td>\n",
       "      <td>1113</td>\n",
       "      <td>-23.864336</td>\n",
       "    </tr>\n",
       "  </tbody>\n",
       "</table>\n",
       "<p>67942 rows × 7 columns</p>\n",
       "</div>"
      ],
      "text/plain": [
       "                  bi_grams    word_0    word_1  bi_grams_freq  word_0_freq  \\\n",
       "63037   (homeless, selves)  homeless    selves              1            1   \n",
       "25996     (OPEN, HATCHWAY)      OPEN  HATCHWAY              1            1   \n",
       "60111    (occult, lessons)    occult   lessons              1            1   \n",
       "14217        (LORD, BACON)      LORD     BACON              1            1   \n",
       "41507  (REPEATED, FLASHES)  REPEATED   FLASHES              1            1   \n",
       "...                    ...       ...       ...            ...          ...   \n",
       "63147           (man, the)       man       the              1          508   \n",
       "31709          (some, the)      some       the              1          578   \n",
       "18705           (one, the)       one       the              1          889   \n",
       "57851           (the, not)       the       not              1        13721   \n",
       "59597           (the, but)       the       but              1        13721   \n",
       "\n",
       "       word_1_freq        PMI  \n",
       "63037            1   0.000000  \n",
       "25996            1   0.000000  \n",
       "60111            1   0.000000  \n",
       "14217            1   0.000000  \n",
       "41507            1   0.000000  \n",
       "...            ...        ...  \n",
       "63147        13721 -22.732783  \n",
       "31709        13721 -22.919024  \n",
       "18705        13721 -23.540138  \n",
       "57851         1103 -23.851315  \n",
       "59597         1113 -23.864336  \n",
       "\n",
       "[67942 rows x 7 columns]"
      ]
     },
     "execution_count": 32,
     "metadata": {},
     "output_type": "execute_result"
    }
   ],
   "source": [
    "df.sort_values(by='PMI', ascending=False)"
   ]
  },
  {
   "cell_type": "markdown",
   "metadata": {
    "colab_type": "text",
    "id": "G0a53wvZo673"
   },
   "source": [
    "# Medidas pre-construidas en NLTK"
   ]
  },
  {
   "cell_type": "markdown",
   "metadata": {
    "colab_type": "text",
    "id": "CWyDEBtZmCya"
   },
   "source": [
    "# Textos en Español "
   ]
  },
  {
   "cell_type": "markdown",
   "metadata": {
    "colab_type": "text",
    "id": "G30AGeOX2cCf"
   },
   "source": [
    "# Referencias para seguir aprendiendo\n",
    "\n",
    "\n",
    "*   [Mas sobre Colocaciones con NLTK](http://www.nltk.org/howto/collocations.html)\n",
    "*   \n",
    "\n"
   ]
  }
 ],
 "metadata": {
  "kernelspec": {
   "display_name": "Python 3.9.7 ('datascience_ml')",
   "language": "python",
   "name": "python3"
  },
  "language_info": {
   "codemirror_mode": {
    "name": "ipython",
    "version": 3
   },
   "file_extension": ".py",
   "mimetype": "text/x-python",
   "name": "python",
   "nbconvert_exporter": "python",
   "pygments_lexer": "ipython3",
   "version": "3.9.7"
  },
  "orig_nbformat": 4,
  "vscode": {
   "interpreter": {
    "hash": "ee8799877915b2128d18d4b1666f364b6042f264ec4835ead054518ba3b9d1ac"
   }
  }
 },
 "nbformat": 4,
 "nbformat_minor": 2
}
