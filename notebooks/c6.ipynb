{
 "cells": [
  {
   "cell_type": "markdown",
   "metadata": {},
   "source": [
    "# C6 Fundamentos con NLTK: recursos lexicos\n",
    "\n",
    "¿Qué son los recursos lexicos y como podemos usarlos?\n",
    "\n",
    "Son colecciones de palabras o frases con meta-datos o información acerca de los elementos de esa colección\n",
    "\n",
    "## ¿como es?\n",
    "\n",
    "\"Le puedes decir que se calle o me va a enloquecer\"\n",
    "\n",
    "- Calle [Verbo] conjugacion del verbo callar\n",
    "\n",
    "\"Ten cuidado al cruzar la calle porque el semáforo no funciona\"\n",
    "\n",
    "- Calle [Sustantivo] Referencia al espacio publico por donde hay transito\n",
    "\n",
    "## ¿Por qué es tan importante esto?\n",
    "\n",
    "En lenguajes como el español hay palabras que pueden tener diferentes significados que dependiendo del contexto en el cual es palabra esta siendo usada esa información se puede categorizar y estructurar dentro de lo que llamamos un recurso léxico."
   ]
  },
  {
   "cell_type": "code",
   "execution_count": null,
   "metadata": {},
   "outputs": [],
   "source": []
  }
 ],
 "metadata": {
  "language_info": {
   "name": "python"
  },
  "orig_nbformat": 4
 },
 "nbformat": 4,
 "nbformat_minor": 2
}
