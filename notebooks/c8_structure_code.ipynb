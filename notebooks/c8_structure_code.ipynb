{
 "cells": [
  {
   "attachments": {},
   "cell_type": "markdown",
   "metadata": {},
   "source": [
    "# Configuracion inicial"
   ]
  },
  {
   "cell_type": "code",
   "execution_count": 1,
   "metadata": {},
   "outputs": [
    {
     "name": "stdout",
     "output_type": "stream",
     "text": [
      "The Project Gutenberg EBook of Crime and Punishmen\n"
     ]
    }
   ],
   "source": [
    "file = open(\"book.txt\", \"r\", encoding=\"utf-8\")\n",
    "text = file.read()\n",
    "print(text[:50])  # Para verificar\n"
   ]
  },
  {
   "attachments": {},
   "cell_type": "markdown",
   "metadata": {},
   "source": [
    "## Construyendo codigo estructurado (con funciones)"
   ]
  },
  {
   "attachments": {},
   "cell_type": "markdown",
   "metadata": {},
   "source": [
    "## Ejemplo 1:"
   ]
  },
  {
   "cell_type": "code",
   "execution_count": 5,
   "metadata": {},
   "outputs": [],
   "source": [
    "import re\n",
    "\n",
    "def get_text(file):\n",
    "  text = open(file).read()\n",
    "  text = re.sub(r'<.*?>', ' ', text)\n",
    "  text = re.sub(r'\\s+', ' ', text)\n",
    "  return text\n"
   ]
  },
  {
   "cell_type": "code",
   "execution_count": 7,
   "metadata": {},
   "outputs": [
    {
     "data": {
      "text/plain": [
       "'The Project Gutenberg EBook of Crime and Punishmen'"
      ]
     },
     "execution_count": 7,
     "metadata": {},
     "output_type": "execute_result"
    }
   ],
   "source": [
    "file_path = \"book.txt\"\n",
    "get_text(file_path)[:50]"
   ]
  },
  {
   "cell_type": "code",
   "execution_count": 13,
   "metadata": {},
   "outputs": [],
   "source": [
    "# el ! es un magic que ejecuta un comando de consola\n",
    "!touch ./metodos/read.py"
   ]
  },
  {
   "cell_type": "code",
   "execution_count": 15,
   "metadata": {},
   "outputs": [],
   "source": [
    "folder_path = \"./metodos\""
   ]
  },
  {
   "cell_type": "code",
   "execution_count": 18,
   "metadata": {},
   "outputs": [
    {
     "data": {
      "text/plain": [
       "['/home/luis/Documents/courses/python_nltk/notebooks',\n",
       " '/home/luis/anaconda3/envs/datascience_ml/lib/python39.zip',\n",
       " '/home/luis/anaconda3/envs/datascience_ml/lib/python3.9',\n",
       " '/home/luis/anaconda3/envs/datascience_ml/lib/python3.9/lib-dynload',\n",
       " '',\n",
       " '/home/luis/anaconda3/envs/datascience_ml/lib/python3.9/site-packages',\n",
       " '/home/luis/anaconda3/envs/datascience_ml/lib/python3.9/site-packages/IPython/extensions',\n",
       " '/home/luis/.ipython',\n",
       " './metodos']"
      ]
     },
     "execution_count": 18,
     "metadata": {},
     "output_type": "execute_result"
    }
   ],
   "source": [
    "import sys\n",
    "sys.path.append(folder_path)\n",
    "sys.path"
   ]
  },
  {
   "cell_type": "code",
   "execution_count": 24,
   "metadata": {},
   "outputs": [],
   "source": [
    "from metodos import read"
   ]
  },
  {
   "cell_type": "code",
   "execution_count": 25,
   "metadata": {},
   "outputs": [
    {
     "data": {
      "text/plain": [
       "'The Project Gutenberg EBook of Crime and Punishmen'"
      ]
     },
     "execution_count": 25,
     "metadata": {},
     "output_type": "execute_result"
    }
   ],
   "source": [
    "read.get_text(file_path)[:50]\n"
   ]
  },
  {
   "cell_type": "code",
   "execution_count": null,
   "metadata": {},
   "outputs": [],
   "source": []
  }
 ],
 "metadata": {
  "kernelspec": {
   "display_name": "datascience_ml",
   "language": "python",
   "name": "python3"
  },
  "language_info": {
   "codemirror_mode": {
    "name": "ipython",
    "version": 3
   },
   "file_extension": ".py",
   "mimetype": "text/x-python",
   "name": "python",
   "nbconvert_exporter": "python",
   "pygments_lexer": "ipython3",
   "version": "3.9.7"
  },
  "orig_nbformat": 4,
  "vscode": {
   "interpreter": {
    "hash": "ee8799877915b2128d18d4b1666f364b6042f264ec4835ead054518ba3b9d1ac"
   }
  }
 },
 "nbformat": 4,
 "nbformat_minor": 2
}
